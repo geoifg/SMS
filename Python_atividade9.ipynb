{
  "nbformat": 4,
  "nbformat_minor": 0,
  "metadata": {
    "colab": {
      "provenance": [],
      "include_colab_link": true
    },
    "kernelspec": {
      "name": "python3",
      "display_name": "Python 3"
    },
    "language_info": {
      "name": "python"
    }
  },
  "cells": [
    {
      "cell_type": "markdown",
      "metadata": {
        "id": "view-in-github",
        "colab_type": "text"
      },
      "source": [
        "<a href=\"https://colab.research.google.com/github/geoifg/SMS/blob/main/Python_atividade9.ipynb\" target=\"_parent\"><img src=\"https://colab.research.google.com/assets/colab-badge.svg\" alt=\"Open In Colab\"/></a>"
      ]
    },
    {
      "cell_type": "markdown",
      "source": [
        "**Notebook para a nona atividade no Python**"
      ],
      "metadata": {
        "id": "Fd8gPFnzM1nq"
      }
    },
    {
      "cell_type": "code",
      "execution_count": null,
      "metadata": {
        "id": "mGYuRx5UF9N3"
      },
      "outputs": [],
      "source": [
        "# Cria uma variável\n",
        "x=0"
      ]
    },
    {
      "cell_type": "code",
      "source": [
        "# Aualiza o valor da variável\n",
        "x=x+1"
      ],
      "metadata": {
        "id": "ytvOUGhHGp7q"
      },
      "execution_count": null,
      "outputs": []
    },
    {
      "cell_type": "code",
      "source": [
        "print(x)"
      ],
      "metadata": {
        "colab": {
          "base_uri": "https://localhost:8080/"
        },
        "id": "oJdcxRhvGuDj",
        "outputId": "7f2fc1ac-f3c0-4885-d785-b9164a6de8ed"
      },
      "execution_count": null,
      "outputs": [
        {
          "output_type": "stream",
          "name": "stdout",
          "text": [
            "2\n"
          ]
        }
      ]
    },
    {
      "cell_type": "code",
      "source": [
        "# Vamos usar um laço de while (enquanto) para atualizar o valor\n",
        "# da variável n\n",
        "n=4\n",
        "while n >0:\n",
        "  #n=n-1\n",
        "  print(n)\n",
        "print (\"Zero!\")"
      ],
      "metadata": {
        "colab": {
          "base_uri": "https://localhost:8080/"
        },
        "id": "zTyD5i9XHDR_",
        "outputId": "9be8272c-0a2e-4a07-b3ae-10518e646fa4"
      },
      "execution_count": null,
      "outputs": [
        {
          "output_type": "stream",
          "name": "stdout",
          "text": [
            "3\n",
            "2\n",
            "1\n",
            "0\n",
            "Zero!\n"
          ]
        }
      ]
    },
    {
      "cell_type": "markdown",
      "source": [
        "Esse script começa definindo uma variável \"n\" com o valor 4. Em seguida, um loop \"while\" é iniciado com a condição \"n > 0\". Enquanto a condição for verdadeira, o bloco de código dentro do loop será executado repetidamente.\n",
        "\n",
        "Dentro do loop, o valor atual de \"n\" é printado na saída padrão usando o comando \"print\". No entanto, não há código dentro do loop que modifique o valor de \"n\", o que significa que a condição \"n > 0\" sempre será verdadeira e o loop continuará a ser executado indefinidamente.\n",
        "\n",
        "Como resultado, o script irá imprimir repetidamente o valor 4 (ou o valor de \"n\" no início do loop) sem parar, e nunca chegará ao comando \"print\" que printe \"Zero!\" no final.\n",
        "\n",
        "Se a linha comentada \"#n=n-1\" for descomentada (removendo o caractere '#' no início), a cada iteração do loop, o valor de \"n\" será decrementado em 1. Isso eventualmente fará com que a condição \"n > 0\" se torne falsa e o loop será encerrado, permitindo que o comando \"print\" que imprime \"Zero!\" seja executado."
      ],
      "metadata": {
        "id": "dWyGthYLNLFe"
      }
    },
    {
      "cell_type": "code",
      "source": [
        "# Vamos usar um laço de for para exibir na tela os itens da\n",
        "# lista a um a um\n",
        "a=[1,2,3,4,5]\n",
        "for i in a:\n",
        "  print(i)\n"
      ],
      "metadata": {
        "colab": {
          "base_uri": "https://localhost:8080/"
        },
        "id": "UND3VoWaINvG",
        "outputId": "65725679-26c1-46ae-81da-55858cbeefdf"
      },
      "execution_count": null,
      "outputs": [
        {
          "output_type": "stream",
          "name": "stdout",
          "text": [
            "1\n",
            "2\n",
            "3\n",
            "4\n",
            "5\n"
          ]
        }
      ]
    },
    {
      "cell_type": "markdown",
      "source": [
        "Esse script define uma lista chamada \"a\" contendo os números 1, 2, 3, 4 e 5. Em seguida, um loop \"for\" é iniciado, onde o iterador \"i\" recebe cada valor presente na lista \"a\" sequencialmente.\n",
        "\n",
        "Durante cada iteração do loop, o valor atual de \"i\" é impresso na saída padrão usando o comando \"print\". Isso significa que cada número da lista \"a\" é impresso na saída padrão, um de cada vez, em ordem sequencial."
      ],
      "metadata": {
        "id": "Zy63pQcFNrGd"
      }
    }
  ]
}