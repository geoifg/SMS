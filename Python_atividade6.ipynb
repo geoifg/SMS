{
  "nbformat": 4,
  "nbformat_minor": 0,
  "metadata": {
    "colab": {
      "provenance": [],
      "include_colab_link": true
    },
    "kernelspec": {
      "name": "python3",
      "display_name": "Python 3"
    },
    "language_info": {
      "name": "python"
    }
  },
  "cells": [
    {
      "cell_type": "markdown",
      "metadata": {
        "id": "view-in-github",
        "colab_type": "text"
      },
      "source": [
        "<a href=\"https://colab.research.google.com/github/geoifg/SMS/blob/main/Python_atividade6.ipynb\" target=\"_parent\"><img src=\"https://colab.research.google.com/assets/colab-badge.svg\" alt=\"Open In Colab\"/></a>"
      ]
    },
    {
      "cell_type": "markdown",
      "source": [
        "**Notebook para a sexta atividade no Python**"
      ],
      "metadata": {
        "id": "z5oHB290JLpr"
      }
    },
    {
      "cell_type": "code",
      "source": [
        "# Atribua um valor a x\n",
        "x=-1"
      ],
      "metadata": {
        "id": "oWWOIEew5sno"
      },
      "execution_count": null,
      "outputs": []
    },
    {
      "cell_type": "markdown",
      "source": [
        "Se o valor de x for maior do que 0, ele imprime a mensagem 'X é positivo!'.\n",
        "\n",
        "Se o valor de x for igual a 0, ele imprime a mensagem 'X é zero'.\n",
        "\n",
        "Caso contrário, ou seja, se x for menor do que 0, ele imprime a mensagem 'Não sei!'."
      ],
      "metadata": {
        "id": "thqQ7GZA0G-D"
      }
    },
    {
      "cell_type": "code",
      "execution_count": null,
      "metadata": {
        "colab": {
          "base_uri": "https://localhost:8080/"
        },
        "id": "ZzZRwioM1QWO",
        "outputId": "cc054592-bf16-4e38-81fe-8ec4e316ca85"
      },
      "outputs": [
        {
          "output_type": "stream",
          "name": "stdout",
          "text": [
            "Não sei!\n"
          ]
        }
      ],
      "source": [
        "# Mecânica do if, else if (elif) e else\n",
        "if x >0:\n",
        "  print('X é positivo!')\n",
        "elif x == 0:\n",
        "  print('X é zero')\n",
        "else:\n",
        "  print('Não sei!')"
      ]
    },
    {
      "cell_type": "code",
      "source": [
        "# Vamos testar com variáveis novas\n",
        "x=5\n",
        "y=10"
      ],
      "metadata": {
        "id": "UsHpubVI7Ta2"
      },
      "execution_count": null,
      "outputs": []
    },
    {
      "cell_type": "code",
      "source": [
        "# Mecânica do if else com condições aninhadas. Repare que o segundo if está dentro do else do primeiro if\n",
        "if x==y:\n",
        "  print('X é igual a y!')\n",
        "else:\n",
        "  if x>y:\n",
        "    print('X é maior do que Y!')\n",
        "  else:\n",
        "    print('X é menor do que Y!')"
      ],
      "metadata": {
        "colab": {
          "base_uri": "https://localhost:8080/"
        },
        "id": "johZ99HP7Ywf",
        "outputId": "a6be4f90-bcbf-4b52-9473-c6a7b9c1d1a7"
      },
      "execution_count": null,
      "outputs": [
        {
          "output_type": "stream",
          "name": "stdout",
          "text": [
            "X é menor do que Y!\n"
          ]
        }
      ]
    }
  ]
}