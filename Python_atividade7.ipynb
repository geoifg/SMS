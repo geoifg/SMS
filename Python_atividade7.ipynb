{
  "nbformat": 4,
  "nbformat_minor": 0,
  "metadata": {
    "colab": {
      "provenance": [],
      "include_colab_link": true
    },
    "kernelspec": {
      "name": "python3",
      "display_name": "Python 3"
    },
    "language_info": {
      "name": "python"
    }
  },
  "cells": [
    {
      "cell_type": "markdown",
      "metadata": {
        "id": "view-in-github",
        "colab_type": "text"
      },
      "source": [
        "<a href=\"https://colab.research.google.com/github/geoifg/SMS/blob/main/Python_atividade7.ipynb\" target=\"_parent\"><img src=\"https://colab.research.google.com/assets/colab-badge.svg\" alt=\"Open In Colab\"/></a>"
      ]
    },
    {
      "cell_type": "markdown",
      "source": [
        "**Notebook para a sétima atividade no Python**"
      ],
      "metadata": {
        "id": "sD4JnB_DKDle"
      }
    },
    {
      "cell_type": "code",
      "execution_count": null,
      "metadata": {
        "colab": {
          "base_uri": "https://localhost:8080/"
        },
        "id": "t3zRiZoE7N72",
        "outputId": "6ec3b516-8625-4c29-aadf-025da2116d77"
      },
      "outputs": [
        {
          "output_type": "stream",
          "name": "stdout",
          "text": [
            "Olá!\n"
          ]
        }
      ],
      "source": [
        "# Uma das primeiras funççoes que aprendemos foi a print, que mostra o conteúdo na tela\n",
        "print('Olá!')"
      ]
    },
    {
      "cell_type": "code",
      "source": [
        "# Também aprendemos a função type, que verifica o tipo de dado de uma variável ou objeto\n",
        "type('12')"
      ],
      "metadata": {
        "colab": {
          "base_uri": "https://localhost:8080/"
        },
        "id": "gC3GWLqo7hZi",
        "outputId": "28ab8b93-6c86-41f2-eafb-2b2fca5db73d"
      },
      "execution_count": null,
      "outputs": [
        {
          "output_type": "execute_result",
          "data": {
            "text/plain": [
              "str"
            ]
          },
          "metadata": {},
          "execution_count": 2
        }
      ]
    },
    {
      "cell_type": "code",
      "source": [
        "type(12)"
      ],
      "metadata": {
        "colab": {
          "base_uri": "https://localhost:8080/"
        },
        "id": "XphslG057mX9",
        "outputId": "26c10dd4-8695-4886-d940-c5f7c14ef384"
      },
      "execution_count": null,
      "outputs": [
        {
          "output_type": "execute_result",
          "data": {
            "text/plain": [
              "int"
            ]
          },
          "metadata": {},
          "execution_count": 3
        }
      ]
    },
    {
      "cell_type": "code",
      "source": [
        "# Vamos criar uma lista com números para explorar  outras funções\n",
        "numeros=[1,5,7,8,15]"
      ],
      "metadata": {
        "id": "qVSJ30_S7vN4"
      },
      "execution_count": null,
      "outputs": []
    },
    {
      "cell_type": "code",
      "source": [
        "# Encontrar o valor máximo da lista\n",
        "max(numeros)"
      ],
      "metadata": {
        "colab": {
          "base_uri": "https://localhost:8080/"
        },
        "id": "37t8S-5N7z5a",
        "outputId": "0de590b4-972b-4a1e-98d8-b880c91630b4"
      },
      "execution_count": null,
      "outputs": [
        {
          "output_type": "execute_result",
          "data": {
            "text/plain": [
              "15"
            ]
          },
          "metadata": {},
          "execution_count": 5
        }
      ]
    },
    {
      "cell_type": "code",
      "source": [
        "# Encontrar o valor minímo da lista\n",
        "min(numeros)"
      ],
      "metadata": {
        "colab": {
          "base_uri": "https://localhost:8080/"
        },
        "id": "Tz-pRlaW74gt",
        "outputId": "373a19ac-8812-4c01-9e1a-8e6ed64f89c7"
      },
      "execution_count": null,
      "outputs": [
        {
          "output_type": "execute_result",
          "data": {
            "text/plain": [
              "1"
            ]
          },
          "metadata": {},
          "execution_count": 6
        }
      ]
    },
    {
      "cell_type": "code",
      "source": [
        "# Obter o comprimento de um vetor, nesse caso o número de elementos (números) na nossa lista\n",
        "len(numeros)"
      ],
      "metadata": {
        "colab": {
          "base_uri": "https://localhost:8080/"
        },
        "id": "IasKG4nm7-WB",
        "outputId": "3a1fe8f9-63fb-4ae7-c153-b3da158d1564"
      },
      "execution_count": null,
      "outputs": [
        {
          "output_type": "execute_result",
          "data": {
            "text/plain": [
              "5"
            ]
          },
          "metadata": {},
          "execution_count": 7
        }
      ]
    },
    {
      "cell_type": "code",
      "source": [
        "# Usamos a função type para verificar o tipo de dados e a função int para transformar o número em inteiro (conversão de tipo)\n",
        "type(int(5.7))"
      ],
      "metadata": {
        "colab": {
          "base_uri": "https://localhost:8080/"
        },
        "id": "8C1t-bHi8D4L",
        "outputId": "ee00b73b-f06e-420e-9960-e7a4873f9b65"
      },
      "execution_count": null,
      "outputs": [
        {
          "output_type": "execute_result",
          "data": {
            "text/plain": [
              "int"
            ]
          },
          "metadata": {},
          "execution_count": 11
        }
      ]
    },
    {
      "cell_type": "code",
      "source": [
        "# Usamos a função type para verificar o tipo de dados e a função float para transformar o número em fracionário (conversão de tipo)\n",
        "type(float(5))"
      ],
      "metadata": {
        "colab": {
          "base_uri": "https://localhost:8080/"
        },
        "id": "cOuAnCjX8Lz3",
        "outputId": "4a963c16-1b23-409f-8e10-00f39019cdc4"
      },
      "execution_count": null,
      "outputs": [
        {
          "output_type": "execute_result",
          "data": {
            "text/plain": [
              "float"
            ]
          },
          "metadata": {},
          "execution_count": 10
        }
      ]
    },
    {
      "cell_type": "code",
      "source": [
        "# Usamos a função type para verificar o tipo de dados e a função str para transformar o número em texto (conversão de tipo)\n",
        "type(str(9))"
      ],
      "metadata": {
        "colab": {
          "base_uri": "https://localhost:8080/"
        },
        "id": "wWwEVY2U8XeN",
        "outputId": "ed4d86ad-6c8b-4889-d8c4-ca0cdf97bad0"
      },
      "execution_count": null,
      "outputs": [
        {
          "output_type": "execute_result",
          "data": {
            "text/plain": [
              "str"
            ]
          },
          "metadata": {},
          "execution_count": 13
        }
      ]
    },
    {
      "cell_type": "code",
      "source": [
        "# Agora vamos importar a biblioteca math para  utilizar outras funções interessantes\n",
        "import math"
      ],
      "metadata": {
        "id": "sIny7OM68fCR"
      },
      "execution_count": null,
      "outputs": []
    },
    {
      "cell_type": "code",
      "source": [
        "# Só para vocês verem que  o pritn aqui retorna um módulo\n",
        "print(math)"
      ],
      "metadata": {
        "colab": {
          "base_uri": "https://localhost:8080/"
        },
        "id": "tMUlbYJS8rz2",
        "outputId": "45be3e1b-fd93-47d9-a9ed-1dcdab74f08b"
      },
      "execution_count": null,
      "outputs": [
        {
          "output_type": "stream",
          "name": "stdout",
          "text": [
            "<module 'math' (built-in)>\n"
          ]
        }
      ]
    },
    {
      "cell_type": "code",
      "source": [
        "# Logaritmo na base 10\n",
        "math.log10(100)"
      ],
      "metadata": {
        "colab": {
          "base_uri": "https://localhost:8080/"
        },
        "id": "XcPBbHqi8wVK",
        "outputId": "bf9c3f5c-b47c-475d-c5e1-c96d106aba8b"
      },
      "execution_count": null,
      "outputs": [
        {
          "output_type": "execute_result",
          "data": {
            "text/plain": [
              "2.0"
            ]
          },
          "metadata": {},
          "execution_count": 16
        }
      ]
    },
    {
      "cell_type": "code",
      "source": [
        "# Função seno\n",
        "math.sin(0.7)"
      ],
      "metadata": {
        "colab": {
          "base_uri": "https://localhost:8080/"
        },
        "id": "sBiGKzSt9CCr",
        "outputId": "c82b9c56-003a-4016-a6e0-3202863bb496"
      },
      "execution_count": null,
      "outputs": [
        {
          "output_type": "execute_result",
          "data": {
            "text/plain": [
              "0.644217687237691"
            ]
          },
          "metadata": {},
          "execution_count": 17
        }
      ]
    },
    {
      "cell_type": "code",
      "source": [
        "# Função seno  com função radians para converter 30 graus para o valor em radianos. Isso porque a função sin ( e todas as trigonométricas)\n",
        "# no Python aceitam a medida do ângulo apenas em radianos\n",
        "math.sin(math.radians(30))"
      ],
      "metadata": {
        "colab": {
          "base_uri": "https://localhost:8080/"
        },
        "id": "sM5nyKAJ9JO_",
        "outputId": "dfea148d-010e-4690-9bca-85b8c4157bcb"
      },
      "execution_count": null,
      "outputs": [
        {
          "output_type": "execute_result",
          "data": {
            "text/plain": [
              "0.49999999999999994"
            ]
          },
          "metadata": {},
          "execution_count": 18
        }
      ]
    },
    {
      "cell_type": "code",
      "source": [
        "# Calcula o valor em radianos para o ângulo de 30 graus\n",
        "math.radians(30)"
      ],
      "metadata": {
        "colab": {
          "base_uri": "https://localhost:8080/"
        },
        "id": "Q5tG1cw39SQS",
        "outputId": "30d00b90-5617-4b0e-83fc-30d445ebb203"
      },
      "execution_count": null,
      "outputs": [
        {
          "output_type": "execute_result",
          "data": {
            "text/plain": [
              "0.5235987755982988"
            ]
          },
          "metadata": {},
          "execution_count": 19
        }
      ]
    },
    {
      "cell_type": "code",
      "source": [
        "# Raiz quadrada\n",
        "math.sqrt(16)"
      ],
      "metadata": {
        "colab": {
          "base_uri": "https://localhost:8080/"
        },
        "id": "Y6Quh_qH9Wnm",
        "outputId": "6051a36e-20d9-4eba-da32-c61042f94cdc"
      },
      "execution_count": null,
      "outputs": [
        {
          "output_type": "execute_result",
          "data": {
            "text/plain": [
              "4.0"
            ]
          },
          "metadata": {},
          "execution_count": 20
        }
      ]
    }
  ]
}