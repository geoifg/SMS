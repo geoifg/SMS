{
  "nbformat": 4,
  "nbformat_minor": 0,
  "metadata": {
    "colab": {
      "provenance": [],
      "include_colab_link": true
    },
    "kernelspec": {
      "name": "python3",
      "display_name": "Python 3"
    },
    "language_info": {
      "name": "python"
    }
  },
  "cells": [
    {
      "cell_type": "markdown",
      "metadata": {
        "id": "view-in-github",
        "colab_type": "text"
      },
      "source": [
        "<a href=\"https://colab.research.google.com/github/geoifg/SMS/blob/main/Python_atividade8.ipynb\" target=\"_parent\"><img src=\"https://colab.research.google.com/assets/colab-badge.svg\" alt=\"Open In Colab\"/></a>"
      ]
    },
    {
      "cell_type": "markdown",
      "source": [
        "**Notebook para a oitava atividade no Python**"
      ],
      "metadata": {
        "id": "sUQpW2DzLY08"
      }
    },
    {
      "cell_type": "code",
      "execution_count": 1,
      "metadata": {
        "id": "6qhBKMWE-QZ9"
      },
      "outputs": [],
      "source": [
        "# Def (do inglês define - definir) é utilizado para criar funções\n",
        "# Aqui crio uma função que soma três números\n",
        "def soma(n1,n2,n3):\n",
        "  print (n1+n2+n3)"
      ]
    },
    {
      "cell_type": "code",
      "source": [
        "# O print de soma retorna dizendo que é uma função\n",
        "print(soma)"
      ],
      "metadata": {
        "colab": {
          "base_uri": "https://localhost:8080/"
        },
        "id": "drGcrIAbAuZ3",
        "outputId": "ffcb4423-a6f8-487d-bf41-a469c724f25e"
      },
      "execution_count": 2,
      "outputs": [
        {
          "output_type": "stream",
          "name": "stdout",
          "text": [
            "<function soma at 0x7feecf8bf430>\n"
          ]
        }
      ]
    },
    {
      "cell_type": "code",
      "source": [
        "# Executemos a nossa função\n",
        "soma(5,10,5)"
      ],
      "metadata": {
        "colab": {
          "base_uri": "https://localhost:8080/"
        },
        "id": "p-s4SgEzA0rI",
        "outputId": "48d729fb-23c1-4491-d7be-b39671cc52dd"
      },
      "execution_count": 3,
      "outputs": [
        {
          "output_type": "stream",
          "name": "stdout",
          "text": [
            "20\n"
          ]
        }
      ]
    },
    {
      "cell_type": "code",
      "source": [
        "# Aqui definimos uma nova função. Ela repete e mostra na tela\n",
        "# uma frase n vezes  de acordo com o número dado pelo usuário\n",
        "def repetir(frase,n):\n",
        "  for i in range(1,n+1,1):\n",
        "    print(frase)\n"
      ],
      "metadata": {
        "id": "WhL9B4B9BINa"
      },
      "execution_count": 4,
      "outputs": []
    },
    {
      "cell_type": "markdown",
      "source": [
        "Esse script define uma função chamada \"repetir\" que recebe dois argumentos: \"frase\" e \"n\". A função é projetada para printar a \"frase\" fornecida como entrada, \"n\" vezes.\n",
        "\n",
        "O loop \"for\" itera \"n\" vezes, começando de 1 e indo até o valor de \"n\" mais 1, com um passo de 1. Durante cada iteração, a função printa a \"frase\" na saída padrão."
      ],
      "metadata": {
        "id": "ReSyHoaEL9kA"
      }
    },
    {
      "cell_type": "code",
      "source": [
        "# Agora executo afunção que criamos\n",
        "repetir('Hello!', 3)"
      ],
      "metadata": {
        "colab": {
          "base_uri": "https://localhost:8080/"
        },
        "id": "3FOIfbU4BmQj",
        "outputId": "147dbb72-228c-43fa-a756-6cb475209415"
      },
      "execution_count": 5,
      "outputs": [
        {
          "output_type": "stream",
          "name": "stdout",
          "text": [
            "Hello!\n",
            "Hello!\n",
            "Hello!\n"
          ]
        }
      ]
    },
    {
      "cell_type": "code",
      "source": [
        "# Aqui criei uma nova função que sempre repete 5 x\n",
        "def repetir5x (frase):\n",
        "  for i in range(1,6,1):\n",
        "    print(frase)"
      ],
      "metadata": {
        "id": "_9UGVUz6B7BX"
      },
      "execution_count": 6,
      "outputs": []
    },
    {
      "cell_type": "markdown",
      "source": [
        "Esse script define uma função chamada \"repetir5x\" que recebe um único argumento: \"frase\". A função é projetada para printar a \"frase\" fornecida como entrada exatamente 5 vezes.\n",
        "\n",
        "O loop \"for\" itera 5 vezes, começando de 1 e indo até 6 (excluindo 6), com um passo de 1. Durante cada iteração, a função printa a \"frase\" na saída padrão."
      ],
      "metadata": {
        "id": "E95PhJ3yMT6v"
      }
    },
    {
      "cell_type": "code",
      "source": [
        "# Executando a função criada\n",
        "repetir5x('Hello World!')"
      ],
      "metadata": {
        "colab": {
          "base_uri": "https://localhost:8080/"
        },
        "id": "RgQqMS0rCAT4",
        "outputId": "cfd03892-735d-4244-9c06-2e702d9eeb9b"
      },
      "execution_count": null,
      "outputs": [
        {
          "output_type": "stream",
          "name": "stdout",
          "text": [
            "Hello World!\n",
            "Hello World!\n",
            "Hello World!\n",
            "Hello World!\n",
            "Hello World!\n"
          ]
        }
      ]
    },
    {
      "cell_type": "code",
      "source": [
        "# Aqui eu tento atribuir o resultado da função soma a variável \n",
        "# resultado\n",
        "resultado= soma(1,2,3)"
      ],
      "metadata": {
        "colab": {
          "base_uri": "https://localhost:8080/"
        },
        "id": "vmWoN2uKCPgA",
        "outputId": "6346ade9-67e2-4dfe-c569-d778a0ca157f"
      },
      "execution_count": null,
      "outputs": [
        {
          "output_type": "stream",
          "name": "stdout",
          "text": [
            "6\n"
          ]
        }
      ]
    },
    {
      "cell_type": "code",
      "source": [
        "resultado"
      ],
      "metadata": {
        "id": "6fWudpkoCYkd"
      },
      "execution_count": null,
      "outputs": []
    },
    {
      "cell_type": "code",
      "source": [
        "# No entanto quando verificamos o tipo da nossa variável\n",
        "# resultado, ela é do tipo none ou vazia\n",
        "type(resultado)"
      ],
      "metadata": {
        "colab": {
          "base_uri": "https://localhost:8080/"
        },
        "id": "ROV382_YCbm2",
        "outputId": "134964c2-2a4d-4407-92a8-6e0e10f0c2e7"
      },
      "execution_count": null,
      "outputs": [
        {
          "output_type": "execute_result",
          "data": {
            "text/plain": [
              "NoneType"
            ]
          },
          "metadata": {},
          "execution_count": 14
        }
      ]
    },
    {
      "cell_type": "code",
      "source": [
        "# Isso aconteceu porque não usamos a palavra mágica return\n",
        "# ela indica o que deve ser retornado como resultado de uma função\n",
        "# Olha como a função fica quando adicionamos o return\n",
        "def soma_res(n1,n2,n3):\n",
        "  return (n1+n2+n3)"
      ],
      "metadata": {
        "id": "HkSyN6sXCg3g"
      },
      "execution_count": null,
      "outputs": []
    },
    {
      "cell_type": "markdown",
      "source": [
        "Esse script define uma função chamada \"soma_res\" que recebe três argumentos: \"n1\", \"n2\" e \"n3\". A função é projetada para calcular a soma desses três números e retornar o resultado.\n",
        "\n",
        "O comando \"return\" indica que a função deve retornar um valor, neste caso, a soma dos três números. O valor retornado é a soma de \"n1\", \"n2\" e \"n3\"."
      ],
      "metadata": {
        "id": "_hbdGgu2MmhZ"
      }
    },
    {
      "cell_type": "code",
      "source": [
        "# Executando a função\n",
        "soma_res(5,5,5)"
      ],
      "metadata": {
        "colab": {
          "base_uri": "https://localhost:8080/"
        },
        "id": "j1J43vk1CyVb",
        "outputId": "2fb86bbe-6bcc-4d15-c083-2d0b5e9aa44d"
      },
      "execution_count": null,
      "outputs": [
        {
          "output_type": "execute_result",
          "data": {
            "text/plain": [
              "15"
            ]
          },
          "metadata": {},
          "execution_count": 16
        }
      ]
    },
    {
      "cell_type": "code",
      "source": [
        "# Executando a função e armazenando o resultado na variável\n",
        "# resultado\n",
        "resultado=soma_res(5,5,5)"
      ],
      "metadata": {
        "id": "O9HWGMLbC23c"
      },
      "execution_count": null,
      "outputs": []
    },
    {
      "cell_type": "code",
      "source": [
        "# Veja que agora temos um valor\n",
        "print(resultado)"
      ],
      "metadata": {
        "colab": {
          "base_uri": "https://localhost:8080/"
        },
        "id": "GF7w1wD6C7yH",
        "outputId": "edd76008-14c3-4680-b9d4-6bbb08622234"
      },
      "execution_count": null,
      "outputs": [
        {
          "output_type": "stream",
          "name": "stdout",
          "text": [
            "15\n"
          ]
        }
      ]
    },
    {
      "cell_type": "code",
      "source": [
        "# E o tipo é inteiro não None\n",
        "type(resultado)"
      ],
      "metadata": {
        "id": "b1w7RWHRC_cg",
        "outputId": "79def1f5-2d10-4d16-ab7f-2605e1ac84cb",
        "colab": {
          "base_uri": "https://localhost:8080/"
        }
      },
      "execution_count": null,
      "outputs": [
        {
          "output_type": "execute_result",
          "data": {
            "text/plain": [
              "int"
            ]
          },
          "metadata": {},
          "execution_count": 19
        }
      ]
    }
  ]
}